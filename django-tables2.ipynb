{
 "cells": [
  {
   "cell_type": "markdown",
   "metadata": {},
   "source": [
    "# django-tables2 - Приложение для создания HTML-таблиц"
   ]
  },
  {
   "cell_type": "markdown",
   "metadata": {},
   "source": [
    "http://django-tables2.readthedocs.io/en/latest/index.html"
   ]
  },
  {
   "cell_type": "markdown",
   "metadata": {},
   "source": [
    "__Версия 1.16.0 (27.11.2017)__"
   ]
  },
  {
   "cell_type": "markdown",
   "metadata": {},
   "source": [
    "Функции:\n",
    "* Любой итерируемый объект может быть источником данных. Django-queryset (выборкам) оказано максимальное внимание.\n",
    "* Втроенные UI (пользовательские представления) не опираются на JavaScript.\n",
    "* Поддкржка автоматического построения таблиц по данным из моделей Django.\n",
    "* Поддержка настраиваемого поведения полей таблицы с помощью подклассов.\n",
    "* Пагинация.\n",
    "* Сортировка.\n",
    "* Поддержка HTML-вставок в шаблоны таблиц.\n",
    "* Generic view mixin.\n",
    "\n",
    "О приложении:\n",
    "* [Доступно на pypi](https://pypi.python.org/pypi/django-tables2)\n",
    "* Протестировано для python 2.7, 3.3, 3.4, 3.5 и Django 1.8, 1.9, [Travis CI](https://travis-ci.org/bradleyayers/django-tables2)\n",
    "* Документация на [readthedocs.org](https://django-tables2.readthedocs.io/en/latest/)\n",
    "* [Система отслеживания ошибок](http://github.com/bradleyayers/django-tables2/issues)"
   ]
  },
  {
   "cell_type": "markdown",
   "metadata": {},
   "source": [
    "## Содержание"
   ]
  },
  {
   "cell_type": "markdown",
   "metadata": {},
   "source": [
    "## Приступая к работе"
   ]
  },
  {
   "cell_type": "markdown",
   "metadata": {},
   "source": [
    "* [Установка](#Установка)\n",
    "* [Руководство](#Руководство)\n",
    "* [Заполнение таблицы данными](#Заполнение-таблицы-данными)"
   ]
  },
  {
   "cell_type": "markdown",
   "metadata": {},
   "source": [
    "## Настройки"
   ]
  },
  {
   "cell_type": "markdown",
   "metadata": {},
   "source": [
    "* [Альтернативные данные](#Альтернативные-данные)\n",
    "* [Альтернативная сортировка](http://django-tables2.readthedocs.io/en/latest/pages/ordering.html)\n",
    "* [Атрибуты полей и строк](http://django-tables2.readthedocs.io/en/latest/pages/column-attributes.html)\n",
    "* [Настройка заголовков и футеров (подвалов)](http://django-tables2.readthedocs.io/en/latest/pages/column-headers-and-footers.html)\n",
    "* [Изменение позиции полей](http://django-tables2.readthedocs.io/en/latest/pages/swapping-columns.html)\n",
    "* [Пагинация](http://django-tables2.readthedocs.io/en/latest/pages/pagination.html)\n",
    "* [Смешивание таблиц](http://django-tables2.readthedocs.io/en/latest/pages/table-mixins.html)\n",
    "* [Настройка стилей таблиц](http://django-tables2.readthedocs.io/en/latest/pages/custom-rendering.html)\n",
    "* [Выборки полей](http://django-tables2.readthedocs.io/en/latest/pages/query-string-fields.html)\n",
    "* [Локализации](http://django-tables2.readthedocs.io/en/latest/pages/localization-control.html)\n",
    "* [Class Based Generic Mixins](http://django-tables2.readthedocs.io/en/latest/pages/generic-mixins.html)\n",
    "* [Закрепленные строки](http://django-tables2.readthedocs.io/en/latest/pages/pinned-rows.html)\n",
    "* [Фильтрация данных](http://django-tables2.readthedocs.io/en/latest/pages/filtering.html)\n",
    "* [Экспорт данных](http://django-tables2.readthedocs.io/en/latest/pages/export.html)"
   ]
  },
  {
   "cell_type": "markdown",
   "metadata": {},
   "source": [
    "## Ссылки"
   ]
  },
  {
   "cell_type": "markdown",
   "metadata": {},
   "source": [
    "* [API](http://django-tables2.readthedocs.io/en/latest/pages/reference.html)\n",
    "* [Часто задаваемые вопросы](http://django-tables2.readthedocs.io/en/latest/pages/faq.html)\n",
    "* [Что нового](http://django-tables2.readthedocs.io/en/latest/pages/upgrade-changelog.html)\n",
    "* [Словарь](http://django-tables2.readthedocs.io/en/latest/pages/glossary.html)"
   ]
  },
  {
   "cell_type": "markdown",
   "metadata": {},
   "source": [
    "# Установка"
   ]
  },
  {
   "cell_type": "markdown",
   "metadata": {},
   "source": [
    "http://django-tables2.readthedocs.io/en/latest/pages/installation.html"
   ]
  },
  {
   "cell_type": "markdown",
   "metadata": {},
   "source": [
    "Приложение Django-tables2 [доступно в pypi](https://pypi.python.org/pypi/django-tables2) и может быть установлено с помощью pip:"
   ]
  },
  {
   "cell_type": "markdown",
   "metadata": {},
   "source": [
    "```bash\n",
    "pip install django-tables2\n",
    "```"
   ]
  },
  {
   "cell_type": "markdown",
   "metadata": {},
   "source": [
    "После установки, добавьте `'django_tables2'` в `INSTALLED_APPS` и убедитесь, что `'django.template.context_processors.request'` добавлен в `context_processors` в секции настроек шаблона `OPTIONS`."
   ]
  },
  {
   "cell_type": "markdown",
   "metadata": {},
   "source": [
    "# Руководство"
   ]
  },
  {
   "cell_type": "markdown",
   "metadata": {},
   "source": [
    "http://django-tables2.readthedocs.io/en/latest/pages/tutorial.html"
   ]
  },
  {
   "cell_type": "markdown",
   "metadata": {},
   "source": [
    "Это пошаговое руководство по установке django-tables2 и его использованию с Django 1.11."
   ]
  },
  {
   "cell_type": "markdown",
   "metadata": {},
   "source": [
    "1. `pip install django-tables2`\n",
    "2. Создайте новое приложение Django: `python manage.py startapp tutorial`\n",
    "3. Добавьте `'django_tables2' ` и `'tutorial'` в разде `INSTALLED_APPS` файла настроек `settings.py`."
   ]
  },
  {
   "cell_type": "markdown",
   "metadata": {},
   "source": [
    "Добавьте новую модель в `tutorial/models.py`:"
   ]
  },
  {
   "cell_type": "code",
   "execution_count": null,
   "metadata": {},
   "outputs": [],
   "source": [
    "# tutorial/models.py\n",
    "class Person(models.Model):\n",
    "    name = models.CharField(max_length=100, verbose_name='full name')"
   ]
  },
  {
   "cell_type": "markdown",
   "metadata": {},
   "source": [
    "Создайте таблицу в базе данных для новой модели."
   ]
  },
  {
   "cell_type": "markdown",
   "metadata": {},
   "source": [
    "```bash\n",
    "python manage.py makemigrations tutorial\n",
    "python manage.py migrate tutorial\n",
    "```"
   ]
  },
  {
   "cell_type": "markdown",
   "metadata": {},
   "source": [
    "Добавьте данные, чтобы было, что отображать в таблице:"
   ]
  },
  {
   "cell_type": "markdown",
   "metadata": {},
   "source": [
    "```python manage.py shell```"
   ]
  },
  {
   "cell_type": "code",
   "execution_count": null,
   "metadata": {},
   "outputs": [],
   "source": [
    "from tutorials.models import Person\n",
    "Person.objects.bulk_create(Person(name='Jieter'), Person(name='Bradley'))"
   ]
  },
  {
   "cell_type": "markdown",
   "metadata": {},
   "source": [
    "```[<Person: Person object>, <Person: Person object>]```"
   ]
  },
  {
   "cell_type": "markdown",
   "metadata": {},
   "source": [
    "Создайте представление для передачи выборки из `Person` в шаблон:"
   ]
  },
  {
   "cell_type": "code",
   "execution_count": null,
   "metadata": {},
   "outputs": [],
   "source": [
    "# tutorial/views.py\n",
    "from django.shortcuts import render\n",
    "from .models import Person\n",
    "\n",
    "def people(request):\n",
    "    return render(request, 'tutorial/people.html', {'people': People.objects.all()})"
   ]
  },
  {
   "cell_type": "markdown",
   "metadata": {},
   "source": [
    "Содайте шаблон:"
   ]
  },
  {
   "cell_type": "code",
   "execution_count": null,
   "metadata": {},
   "outputs": [],
   "source": [
    "{# tutorial/templates/tutorial/people.html #}\n",
    "{% load render_table from django_tables2 %}\n",
    "<!doctype html>\n",
    "<html>\n",
    "    <head>\n",
    "        <title>Список людей</title>\n",
    "    </head>\n",
    "    <body>\n",
    "        {% render_table people %}\n",
    "    </body>\n",
    "</html>"
   ]
  },
  {
   "cell_type": "markdown",
   "metadata": {},
   "source": [
    "В браузере загрузите страницу http://localhost:8000/people/. Должно появиться следующее:"
   ]
  },
  {
   "attachments": {
    "tutorial.png": {
     "image/png": "[encoded data removed]"
    }
   },
   "cell_type": "markdown",
   "metadata": {},
   "source": [
    "![tutorial.png](attachment:tutorial.png)"
   ]
  },
  {
   "cell_type": "code",
   "execution_count": null,
   "metadata": {},
   "outputs": [],
   "source": []
  },
  {
   "cell_type": "markdown",
   "metadata": {},
   "source": [
    "Чтобы не направлять выборку ```people``` напрямую в ```{% render_table %}``` нужно определить свой класс ```Table```:"
   ]
  },
  {
   "cell_type": "code",
   "execution_count": null,
   "metadata": {},
   "outputs": [],
   "source": [
    "# tutorial/tables.py\n",
    "import django_tables2 as tables\n",
    "from .models import Person\n",
    "\n",
    "class PersonTable(tables.Table):\n",
    "    class Meta:\n",
    "        model = Person\n",
    "        template_name = 'django_tables2/bootstrap.html'"
   ]
  },
  {
   "cell_type": "markdown",
   "metadata": {},
   "source": [
    "Требуется объявить и настроить таблицу в представлении, прежде чем добавлять контекст:"
   ]
  },
  {
   "cell_type": "code",
   "execution_count": null,
   "metadata": {},
   "outputs": [],
   "source": [
    "# tutorial/views.py\n",
    "from django.shortcuts import render\n",
    "from django_tables2 import RequestConfig\n",
    "from .models import Person\n",
    "from .tables import PersonTable\n",
    "\n",
    "def people(request):\n",
    "    table = PersonTable(Person.objects.all())\n",
    "    RequestConfig(request).configure(table)\n",
    "    return render(request, 'people.html', {'table': table})"
   ]
  },
  {
   "cell_type": "markdown",
   "metadata": {},
   "source": [
    "При использовании ```RequestConfig``` автоматически формируются таблица по данным из get-запроса ```request.GET```. Становятся доступны сортировка и постраничная навигация. "
   ]
  },
  {
   "cell_type": "markdown",
   "metadata": {},
   "source": [
    "Вместо отправки выборки в ```{% render_table %}```, передается экземпляр таблицы:"
   ]
  },
  {
   "cell_type": "code",
   "execution_count": null,
   "metadata": {},
   "outputs": [],
   "source": [
    "{# tutorial/templates/tutorial/people.html #}\n",
    "{% load render_table from django_tables2 %}\n",
    "<!doctype html>\n",
    "<html>\n",
    "    <head>\n",
    "        <title>List of persons</title>\n",
    "        <link rel=\"stylesheet\" href=\"https://maxcdn.bootstrapcdn.com/bootstrap/3.3.7/css/bootstrap.min.css\" />\n",
    "    </head>\n",
    "    <body>\n",
    "        {% render_table table %}\n",
    "    </body>\n",
    "</html>"
   ]
  },
  {
   "cell_type": "markdown",
   "metadata": {},
   "source": [
    "Получиться следующий результат, обработанный стилями bootsrtap3:"
   ]
  },
  {
   "attachments": {
    "tutorial-bootstrap.png": {
     "image/png": "[encoded data removed]"
    }
   },
   "cell_type": "markdown",
   "metadata": {},
   "source": [
    "![tutorial-bootstrap.png](attachment:tutorial-bootstrap.png)"
   ]
  },
  {
   "cell_type": "markdown",
   "metadata": {},
   "source": [
    "На этом этапе можно конфигурировать только шаблон. Вот несколько статей на тему конфигурации таблиц:\n",
    "* Табличные данные\n",
    " * [Заполнение таблицы данными](#Заполнение-таблицы-данными)\n",
    " * [Фильтрация табличных данных](http://django-tables2.readthedocs.io/en/latest/pages/filtering.html#filtering)\n",
    "* Настройка таблиц\n",
    " * [Заголовки и подвалы](http://django-tables2.readthedocs.io/en/latest/pages/column-headers-and-footers.html#column-headers-and-footers)\n",
    " * [Закрепленные строки](http://django-tables2.readthedocs.io/en/latest/pages/pinned-rows.html#pinned-rows)\n",
    "* [API](http://django-tables2.readthedocs.io/en/latest/pages/api-reference.html#api-public)"
   ]
  },
  {
   "cell_type": "markdown",
   "metadata": {},
   "source": [
    "Если вы считаете, что вам не нужно настраивать все и не хотите полностью определять класс, воспользуйтесь ```django_tables2.tables.table_factory```."
   ]
  },
  {
   "cell_type": "markdown",
   "metadata": {},
   "source": [
    "# Заполнение таблицы данными"
   ]
  },
  {
   "cell_type": "markdown",
   "metadata": {},
   "source": [
    "http://django-tables2.readthedocs.io/en/latest/pages/table-data.html"
   ]
  },
  {
   "cell_type": "markdown",
   "metadata": {},
   "source": [
    "Таблицы можно заполнять несколькими структурами данных. Ранее в руководстве для заполнения использовались выборки, однако можно использовать любые итерируемые структуры, поддерживаемые ```len()``` и содержащие значения, к которым можно обращаться по ключу."
   ]
  },
  {
   "cell_type": "markdown",
   "metadata": {},
   "source": [
    "## Списки словарей"
   ]
  },
  {
   "cell_type": "markdown",
   "metadata": {},
   "source": [
    "При определении таблицы необходимо описать каждое поле:"
   ]
  },
  {
   "cell_type": "code",
   "execution_count": null,
   "metadata": {},
   "outputs": [],
   "source": [
    "import django_tables2 as tables\n",
    "\n",
    "data = [\n",
    "    {'name': 'Bradley'},\n",
    "    {'name': 'Stevie'},\n",
    "]\n",
    "\n",
    "class NameTable(tables.Table):\n",
    "    name = tables.Column()\n",
    "\n",
    "table = NameTable(data)"
   ]
  },
  {
   "cell_type": "markdown",
   "metadata": {},
   "source": [
    "## Списки словарей"
   ]
  },
  {
   "cell_type": "markdown",
   "metadata": {},
   "source": [
    "Если вы используете таблицы для отображения данных выборок (```QuerySet```), можно не описывать каждое поле таблицы, а воспользоваться конструкцией ```Table.Meta.model``` для автоматического создания структуры таблицы:"
   ]
  },
  {
   "cell_type": "code",
   "execution_count": null,
   "metadata": {},
   "outputs": [],
   "source": [
    "# models.py\n",
    "class Person(models.Model):\n",
    "    first_name = models.CharField(max_length=200)\n",
    "    last_name = models.CharField(max_length=200)\n",
    "    user = models.ForeignKey('auth.User')\n",
    "    dob = models.DateField()\n",
    "\n",
    "# tables.py\n",
    "import django_tables2 as tables\n",
    "\n",
    "class PersonTable(tables.Table):\n",
    "    class Meta:\n",
    "        model = Person\n",
    "\n",
    "# views.py\n",
    "def person_list(request):\n",
    "    table = PersonTable(Person.objects.all())\n",
    "\n",
    "    return render(request, 'person_list.html', {\n",
    "        'table': table\n",
    "    })"
   ]
  },
  {
   "cell_type": "markdown",
   "metadata": {},
   "source": [
    "Плюсы:\n",
    "* меньше повторений\n",
    "* именя полей таблицы беруться из атрибутов ```verbose_name``` полей модели\n",
    "* типы полей таблицы максимально схожи с типами полей модели, насколько это возможно (например, дата)"
   ]
  },
  {
   "cell_type": "markdown",
   "metadata": {},
   "source": [
    "Можно использовать следующие атрибуты для конфигурирования полей:\n",
    "* ```sequence``` - поменять порядок полей\n",
    "* ```fields``` - определить, какие поля модели будут отображаться в таблице\n",
    "* ```exclude``` - определить, какие поля модели не будут отображаться в таблице"
   ]
  },
  {
   "cell_type": "markdown",
   "metadata": {},
   "source": [
    "## Производительность"
   ]
  },
  {
   "cell_type": "markdown",
   "metadata": {},
   "source": [
    "Django-tables старается выводить большие данные наиболее эффективно. Старается избегать преобразования выборок в списки, используя разбиенеие данных на уровне SQL. Обычно без проблем обрабатывается до 100 тысяч записей."
   ]
  },
  {
   "cell_type": "markdown",
   "metadata": {},
   "source": [
    "Однако, если воспользоваться методами конфигурирования таблиц, описанными в данном руководстве, производительность может замедлиться. Чтобы понять, какая из настроек влияет на производительность, попробуйте их отключить и подключать по одной, проверяя производительность на каждом шаге."
   ]
  },
  {
   "cell_type": "markdown",
   "metadata": {},
   "source": [
    "# Альтернативные данные"
   ]
  },
  {
   "cell_type": "markdown",
   "metadata": {},
   "source": [
    "http://django-tables2.readthedocs.io/en/latest/pages/custom-data.html"
   ]
  },
  {
   "cell_type": "markdown",
   "metadata": {},
   "source": [
    "Есть множество подходов для обработки данных. Каждый из них имеет свою гранб между удобством использования и гибкостью настроек."
   ]
  },
  {
   "cell_type": "markdown",
   "metadata": {},
   "source": [
    "## Использование ```Accessors``` (доступов, акцессоров)"
   ]
  },
  {
   "cell_type": "markdown",
   "metadata": {},
   "source": [
    "Каждое поле имеет свой ключ, который описывает, из какой записи необходимо взять значение и поместить в конкретную ячейку поля. По умолчанию, ключ - это просто имя, присвоенное полю. Но его можно изменить для связи с внешними ключами или для использования в других сценариях обработки."
   ]
  },
  {
   "cell_type": "markdown",
   "metadata": {},
   "source": [
    "Для избежания двусмысленности при использовании термина ```ключ``` будем использовать термин ```акцессор```."
   ]
  },
  {
   "cell_type": "markdown",
   "metadata": {},
   "source": [
    "Акцессоры - это путь к объекту в точечной нотации, описывающий как объект получает конкретное значение, например:"
   ]
  },
  {
   "cell_type": "raw",
   "metadata": {},
   "source": [
    ">>> from django_tables2 import A\n",
    ">>> data = {'abc': {'one': {'two': 'three'}}}\n",
    ">>> A('abc.one.two').resolve(data)\n",
    "'three'"
   ]
  },
  {
   "cell_type": "markdown",
   "metadata": {},
   "source": [
    "Точки представляют собой отношения и раскрываются в следующем порядке:"
   ]
  },
  {
   "cell_type": "markdown",
   "metadata": {},
   "source": [
    "1. Поиск по словарю ```a[b]```\n",
    "2. Поиск атрибута ```a.b```\n",
    "3. Поиск по индексу списка ```a[int(b)]```"
   ]
  },
  {
   "cell_type": "markdown",
   "metadata": {},
   "source": [
    "Если результирующее значение является вызываемым, оно вызвается и подставляется возвращаемое значение."
   ]
  },
  {
   "cell_type": "markdown",
   "metadata": {},
   "source": [
    "## Методы ```Table.render_foo```"
   ]
  },
  {
   "cell_type": "markdown",
   "metadata": {},
   "source": [
    "Для изменения способа обработки поля, в таблице определяется метод ```render_foo```, например, ```render_row_number()``` для поля ```row_number```. Этот подход подойдет, если требуется внести изменение в одно поле, без необходимости использования такой обработки в нескольких таблицах."
   ]
  },
  {
   "cell_type": "markdown",
   "metadata": {},
   "source": [
    "Поддерживаются следующие аргументы:\n",
    "* `record` - текущая запись (строка таблицы)\n",
    "* `value` - значение ячейки\n",
    "* `column` - объект `Column` (поле)\n",
    "* `bound_column` - объект `BoundColumn`\n",
    "* `bound_row` - объекат `BoundRow`\n",
    "* `table` - псевдоним `self`"
   ]
  },
  {
   "cell_type": "markdown",
   "metadata": {},
   "source": [
    "Следующий пример демонстрирует обработку поля `row_number`:"
   ]
  },
  {
   "cell_type": "code",
   "execution_count": null,
   "metadata": {},
   "outputs": [],
   "source": [
    ">>> import django_tables2 as tables\n",
    ">>> import itertools\n",
    ">>> class SimpleTable(tables.Table):\n",
    "...     row_number = tables.Column(empty_values=())\n",
    "...     id = tables.Column()\n",
    "...     age = tables.Column()\n",
    "...\n",
    "...     def __init__(self, *args, **kwargs):\n",
    "...         super(SimpleTable, self).__init__(*args, **kwargs)\n",
    "...         self.counter = itertools.count()\n",
    "...\n",
    "...     def render_row_number(self):\n",
    "...         return 'Row %d' % next(self.counter)\n",
    "...\n",
    "...     def render_id(self, value):\n",
    "...         return '<%s>' % value\n",
    "...\n",
    ">>> table = SimpleTable([{'age': 31, 'id': 10}, {'age': 34, 'id': 11}])\n",
    ">>> print ', '.join(map(str, table.rows[0]))\n",
    "Row 0, <10>, 31"
   ]
  }
 ],
 "metadata": {
  "kernelspec": {
   "display_name": "Python 3",
   "language": "python",
   "name": "python3"
  },
  "language_info": {
   "codemirror_mode": {
    "name": "ipython",
    "version": 3
   },
   "file_extension": ".py",
   "mimetype": "text/x-python",
   "name": "python",
   "nbconvert_exporter": "python",
   "pygments_lexer": "ipython3",
   "version": "3.5.2"
  }
 },
 "nbformat": 4,
 "nbformat_minor": 2
}
