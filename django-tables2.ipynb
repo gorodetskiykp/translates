{
 "cells": [
  {
   "cell_type": "markdown",
   "metadata": {},
   "source": [
    "# django-tables2 - Приложение для создания HTML-таблиц"
   ]
  },
  {
   "cell_type": "markdown",
   "metadata": {},
   "source": [
    "http://django-tables2.readthedocs.io/en/latest/index.html"
   ]
  },
  {
   "cell_type": "markdown",
   "metadata": {},
   "source": [
    "__Версия 1.16.0 (27.11.2017)__"
   ]
  },
  {
   "cell_type": "markdown",
   "metadata": {},
   "source": [
    "Функции:\n",
    "* Любой итерируемый объект может быть источником данных. Django-queryset (выборкам) оказано максимальное внимание.\n",
    "* Втроенные UI (пользовательские представления) не опираются на JavaScript.\n",
    "* Поддкржка автоматического построения таблиц по данным из моделей Django.\n",
    "* Поддержка настраиваемого поведения полей таблицы с помощью подклассов.\n",
    "* Пагинация.\n",
    "* Сортировка.\n",
    "* Поддержка HTML-вставок в шаблоны таблиц.\n",
    "* Generic view mixin.\n",
    "\n",
    "О приложении:\n",
    "* [Доступно на pypi](https://pypi.python.org/pypi/django-tables2)\n",
    "* Протестировано для python 2.7, 3.3, 3.4, 3.5 и Django 1.8, 1.9, [Travis CI](https://travis-ci.org/bradleyayers/django-tables2)\n",
    "* Документация на [readthedocs.org](https://django-tables2.readthedocs.io/en/latest/)\n",
    "* [Система отслеживания ошибок](http://github.com/bradleyayers/django-tables2/issues)"
   ]
  },
  {
   "cell_type": "markdown",
   "metadata": {},
   "source": [
    "## Содержание"
   ]
  },
  {
   "cell_type": "markdown",
   "metadata": {},
   "source": [
    "## Приступая к работе"
   ]
  },
  {
   "cell_type": "markdown",
   "metadata": {},
   "source": [
    "* [Установка](#Установка)\n",
    "* [Руководство](#Руководство)\n",
    "* [Заполнение таблицы данными](#Заполнение-таблицы-данными)"
   ]
  },
  {
   "cell_type": "markdown",
   "metadata": {},
   "source": [
    "## Настройки"
   ]
  },
  {
   "cell_type": "markdown",
   "metadata": {},
   "source": [
    "* [Альтернативные данные](http://django-tables2.readthedocs.io/en/latest/pages/custom-data.html)\n",
    "* [Альтернативная сортировка](http://django-tables2.readthedocs.io/en/latest/pages/ordering.html)\n",
    "* [Атрибуты полей и строк](http://django-tables2.readthedocs.io/en/latest/pages/column-attributes.html)\n",
    "* [Настройка заголовков и футеров (подвалов)](http://django-tables2.readthedocs.io/en/latest/pages/column-headers-and-footers.html)\n",
    "* [Изменение позиции полей](http://django-tables2.readthedocs.io/en/latest/pages/swapping-columns.html)\n",
    "* [Пагинация](http://django-tables2.readthedocs.io/en/latest/pages/pagination.html)\n",
    "* [Смешивание таблиц](http://django-tables2.readthedocs.io/en/latest/pages/table-mixins.html)\n",
    "* [Настройка стилей таблиц](http://django-tables2.readthedocs.io/en/latest/pages/custom-rendering.html)\n",
    "* [Выборки полей](http://django-tables2.readthedocs.io/en/latest/pages/query-string-fields.html)\n",
    "* [Локализации](http://django-tables2.readthedocs.io/en/latest/pages/localization-control.html)\n",
    "* [Class Based Generic Mixins](http://django-tables2.readthedocs.io/en/latest/pages/generic-mixins.html)\n",
    "* [Закрепленные строки](http://django-tables2.readthedocs.io/en/latest/pages/pinned-rows.html)\n",
    "* [Фильтрация данных](http://django-tables2.readthedocs.io/en/latest/pages/filtering.html)\n",
    "* [Экспорт данных](http://django-tables2.readthedocs.io/en/latest/pages/export.html)"
   ]
  },
  {
   "cell_type": "markdown",
   "metadata": {},
   "source": [
    "## Ссылки"
   ]
  },
  {
   "cell_type": "markdown",
   "metadata": {},
   "source": [
    "* [API](http://django-tables2.readthedocs.io/en/latest/pages/reference.html)\n",
    "* [Часто задаваемые вопросы](http://django-tables2.readthedocs.io/en/latest/pages/faq.html)\n",
    "* [Что нового](http://django-tables2.readthedocs.io/en/latest/pages/upgrade-changelog.html)\n",
    "* [Словарь](http://django-tables2.readthedocs.io/en/latest/pages/glossary.html)"
   ]
  },
  {
   "cell_type": "markdown",
   "metadata": {},
   "source": [
    "# Установка"
   ]
  },
  {
   "cell_type": "markdown",
   "metadata": {},
   "source": [
    "http://django-tables2.readthedocs.io/en/latest/pages/installation.html"
   ]
  },
  {
   "cell_type": "markdown",
   "metadata": {},
   "source": [
    "Приложение Django-tables2 [доступно в pypi](https://pypi.python.org/pypi/django-tables2) и может быть установлено с помощью pip:"
   ]
  },
  {
   "cell_type": "markdown",
   "metadata": {},
   "source": [
    "```bash\n",
    "pip install django-tables2\n",
    "```"
   ]
  },
  {
   "cell_type": "markdown",
   "metadata": {},
   "source": [
    "После установки, добавьте `'django_tables2'` в `INSTALLED_APPS` и убедитесь, что `'django.template.context_processors.request'` добавлен в `context_processors` в секции настроек шаблона `OPTIONS`."
   ]
  },
  {
   "cell_type": "markdown",
   "metadata": {},
   "source": [
    "# Руководство"
   ]
  },
  {
   "cell_type": "markdown",
   "metadata": {},
   "source": [
    "http://django-tables2.readthedocs.io/en/latest/pages/tutorial.html"
   ]
  },
  {
   "cell_type": "markdown",
   "metadata": {},
   "source": [
    "Это пошаговое руководство по установке django-tables2 и его использованию с Django 1.11."
   ]
  },
  {
   "cell_type": "markdown",
   "metadata": {},
   "source": [
    "1. `pip install django-tables2`\n",
    "2. Создайте новое приложение Django: `python manage.py startapp tutorial`\n",
    "3. Добавьте `'django_tables2' ` и `'tutorial'` в разде `INSTALLED_APPS` файла настроек `settings.py`."
   ]
  },
  {
   "cell_type": "markdown",
   "metadata": {},
   "source": [
    "Добавьте новую модель в `tutorial/models.py`:"
   ]
  },
  {
   "cell_type": "code",
   "execution_count": null,
   "metadata": {},
   "outputs": [],
   "source": [
    "# tutorial/models.py\n",
    "class Person(models.Model):\n",
    "    name = models.CharField(max_length=100, verbose_name='full name')"
   ]
  },
  {
   "cell_type": "markdown",
   "metadata": {},
   "source": [
    "Создайте таблицу в базе данных для новой модели."
   ]
  },
  {
   "cell_type": "markdown",
   "metadata": {},
   "source": [
    "```bash\n",
    "python manage.py makemigrations tutorial\n",
    "python manage.py migrate tutorial\n",
    "```"
   ]
  },
  {
   "cell_type": "markdown",
   "metadata": {},
   "source": [
    "Добавьте данные, чтобы было, что отображать в таблице:"
   ]
  },
  {
   "cell_type": "markdown",
   "metadata": {},
   "source": [
    "```bash\n",
    "python manage.py shell\n",
    "```"
   ]
  },
  {
   "cell_type": "code",
   "execution_count": null,
   "metadata": {},
   "outputs": [],
   "source": [
    "from tutorials.models import Person\n",
    "Person.objects.bulk_create(Person(name='Jieter'), Person(name='Bradley'))"
   ]
  },
  {
   "cell_type": "markdown",
   "metadata": {},
   "source": [
    "```bash\n",
    "[<Person: Person object>, <Person: Person object>]\n",
    "```"
   ]
  },
  {
   "cell_type": "markdown",
   "metadata": {},
   "source": [
    "Создайте представление для передачи выборки из `Person` в шаблон:"
   ]
  },
  {
   "cell_type": "code",
   "execution_count": null,
   "metadata": {},
   "outputs": [],
   "source": [
    "# tutorial/views.py\n",
    "from django.shortcuts import render\n",
    "from .models import Person\n",
    "\n",
    "def people(request):\n",
    "    return render(request, 'tutorial/people.html', {'people': People.objects.all()})"
   ]
  },
  {
   "cell_type": "markdown",
   "metadata": {},
   "source": [
    "# Заполнение таблицы данными"
   ]
  }
 ],
 "metadata": {
  "kernelspec": {
   "display_name": "Python 3",
   "language": "python",
   "name": "python3"
  },
  "language_info": {
   "codemirror_mode": {
    "name": "ipython",
    "version": 3
   },
   "file_extension": ".py",
   "mimetype": "text/x-python",
   "name": "python",
   "nbconvert_exporter": "python",
   "pygments_lexer": "ipython3",
   "version": "3.5.2"
  }
 },
 "nbformat": 4,
 "nbformat_minor": 2
}
